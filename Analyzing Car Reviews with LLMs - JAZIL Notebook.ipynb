{
 "cells": [
  {
   "cell_type": "markdown",
   "id": "beb2916c",
   "metadata": {},
   "source": [
    "# Analyzing Car Reviews with LLMs - JAZIL Notebook"
   ]
  },
  {
   "cell_type": "markdown",
   "id": "955dbb57",
   "metadata": {},
   "source": [
    "![alt text](PictureCarReview.jpg)"
   ]
  },
  {
   "cell_type": "markdown",
   "id": "7f548cda",
   "metadata": {},
   "source": [
    "### Car-ing is sharing, an auto dealership company for car sales and rental, is taking their services to the next level thanks to Large Language Models (LLMs). As their newly recruited AI and NLP developer, you've been asked to prototype a chatbot app with multiple functionalities that not only assist customers but also provide support to human agents in the company. The solution should receive textual prompts and use a variety of pre-trained Hugging Face LLMs to respond to a series of tasks, e.g. classifying the sentiment in a car’s text review, answering a customer question, summarizing or translating text, etc."
   ]
  },
  {
   "cell_type": "markdown",
   "id": "7af67984",
   "metadata": {},
   "source": [
    "## The CTO at \"Car-ing is sharing\", a car sales and rental company requested to help prototype a chatbot app that addresses diverse inquiries using LLMs. \n"
   ]
  },
  {
   "cell_type": "markdown",
   "id": "94e1a82a",
   "metadata": {},
   "source": [
    "#### Installing transformers and evaluate package from HuggingFace which provide range of ready to use LLMs for solving our problem and evaluating on our solution."
   ]
  },
  {
   "cell_type": "code",
   "execution_count": 1,
   "id": "e79956d9",
   "metadata": {
    "scrolled": true
   },
   "outputs": [],
   "source": [
    "#!pip install transformers\n",
    "#!pip install evaluate\n",
    "#!pip install -v torch"
   ]
  },
  {
   "cell_type": "code",
   "execution_count": 5,
   "id": "324db44a",
   "metadata": {},
   "outputs": [
    {
     "name": "stderr",
     "output_type": "stream",
     "text": [
      "C:\\Users\\jazil.kalim\\my_venv\\lib\\site-packages\\tqdm\\auto.py:21: TqdmWarning: IProgress not found. Please update jupyter and ipywidgets. See https://ipywidgets.readthedocs.io/en/stable/user_install.html\n",
      "  from .autonotebook import tqdm as notebook_tqdm\n"
     ]
    }
   ],
   "source": [
    "from transformers import logging\n",
    "logging.set_verbosity(logging.WARNING)\n",
    "import pandas as pd\n",
    "import torch\n",
    "import os"
   ]
  },
  {
   "cell_type": "markdown",
   "id": "a040b3ea",
   "metadata": {},
   "source": [
    "### LOADING DATA"
   ]
  },
  {
   "cell_type": "code",
   "execution_count": 6,
   "id": "08ebb987",
   "metadata": {},
   "outputs": [
    {
     "name": "stdout",
     "output_type": "stream",
     "text": [
      "Current working directory is : C:\\Users\\jazil.kalim\n"
     ]
    }
   ],
   "source": [
    "##check directory\n",
    "os.getcwd()\n",
    "print(f'Current working directory is : {os.getcwd()}')"
   ]
  },
  {
   "cell_type": "code",
   "execution_count": 7,
   "id": "7a1c1599",
   "metadata": {},
   "outputs": [
    {
     "name": "stdout",
     "output_type": "stream",
     "text": [
      "                                              Review     Class\n",
      "0  I am very satisfied with my 2014 Nissan NV SL....  POSITIVE\n",
      "1  The car is fine. It's a bit loud and not very ...  NEGATIVE\n",
      "2  My first foreign car. Love it, I would buy ano...  POSITIVE\n",
      "3  I've come across numerous reviews praising the...  NEGATIVE\n",
      "4  I've been dreaming of owning an SUV for quite ...  POSITIVE\n"
     ]
    }
   ],
   "source": [
    "file_path= 'D:\\\\Learning Courses\\\\DSProjects\\\\Datacamp Analyzing Car Reviews with LLMs\\\\data\\\\car_reviews.csv'\n",
    "df=pd.read_csv(file_path, delimiter=';')\n",
    "print(df.head())"
   ]
  },
  {
   "cell_type": "code",
   "execution_count": 8,
   "id": "8273fa5c",
   "metadata": {},
   "outputs": [],
   "source": [
    "## PUTTING CAR REVIEWS AND THEIRE ASSOCIATED SENTIMENT LABELS IN TO LISTS\n",
    "reviews=df['Review'].tolist()\n",
    "real_labels=df['Class'].tolist()"
   ]
  },
  {
   "cell_type": "markdown",
   "id": "f6b587a2",
   "metadata": {},
   "source": [
    "### Section- I : SENTIMENT ANALYSIS\n",
    "#### - Use a pre-trained LLM to classify the sentiment of the five car reviews in the car_reviews.csv dataset, and evaluate the classification accuracy and F1 score of predictions.\n",
    "#### - Store the model outputs in predicted_labels, then extract the labels and map them onto a list of {0,1} integer binary labels called predictions."
   ]
  },
  {
   "cell_type": "code",
   "execution_count": 9,
   "id": "a5622adf",
   "metadata": {},
   "outputs": [],
   "source": [
    "#LOADING SENTIMENT ANALYSIS LLM into a pipeline\n",
    "from transformers import pipeline\n",
    "classifier=pipeline('sentiment-analysis',model='distilbert-base-uncased-finetuned-sst-2-english')"
   ]
  },
  {
   "cell_type": "code",
   "execution_count": 10,
   "id": "5972e07a",
   "metadata": {},
   "outputs": [],
   "source": [
    "predicted_labels=classifier(reviews)"
   ]
  },
  {
   "cell_type": "code",
   "execution_count": 11,
   "id": "40e21dd4",
   "metadata": {},
   "outputs": [
    {
     "name": "stdout",
     "output_type": "stream",
     "text": [
      "[{'label': 'POSITIVE', 'score': 0.929398238658905}, {'label': 'POSITIVE', 'score': 0.8654283285140991}, {'label': 'POSITIVE', 'score': 0.9994640946388245}, {'label': 'NEGATIVE', 'score': 0.9935314059257507}, {'label': 'POSITIVE', 'score': 0.9986565113067627}]\n"
     ]
    }
   ],
   "source": [
    "print(predicted_labels)"
   ]
  },
  {
   "cell_type": "code",
   "execution_count": 12,
   "id": "8e9c9d01",
   "metadata": {
    "scrolled": true
   },
   "outputs": [
    {
     "name": "stdout",
     "output_type": "stream",
     "text": [
      "I am very satisfied with my 2014 Nissan NV SL. I use this van for my business deliveries and personal use. Camping, road trips, etc. We dont have any children so I store most of the seats in my warehouse. I wanted the passenger van for the rear air conditioning. We drove our van from Florida to California for a Cross Country trip in 2014. We averaged about 18 mpg. We drove thru a lot of rain and It was a very comfortable and stable vehicle. The V8 Nissan Titan engine is a 500k mile engine. It has been tested many times by delivery and trucking companies. This is why Nissan gives you a 5 year or 100k mile bumper to bumper warranty. Many people are scared about driving this van because of its size. But with front and rear sonar sensors, large mirrors and the back up camera. It is easy to drive. The front and rear sensors also monitor the front and rear sides of the bumpers making it easier to park close to objects. Our Nissan NV is a Tow Monster. It pulls our 5000 pound travel trailer like its not even there. I have plenty of power to pass a vehicle if needed. The 5.6 liter engine produces 317 hp. I have owned Chevy and Ford vans and there were not very comfortable and had little cockpit room. The Nissan NV is the only vehicle made that has the engine forward like a pick up truck giving the driver plenty of room and comfort in the cockpit area. I dont have any negatives to say about my NV. This is a wide vehicle. The only modification I would like to see from Nissan is for them to add amber side mirror marker lights.BTW. I now own a 2016 Nissan NVP SL. Love it.\n",
      "Actual Sentiment: POSITIVE\n",
      "Predicted Sentiment: POSITIVE (Confidence: 0.9294)\n",
      "-----------------------------\n",
      "\n",
      "The car is fine. It's a bit loud and not very powerful. On one hand, compared to its peers, the interior is well-built. The transmission failed a few years ago, and the dealer replaced it under warranty with no issues. Now, about 60k miles later, the transmission is failing again. It sounds like a truck, and the issues are well-documented. The dealer tells me it is normal, refusing to do anything to resolve the issue. After owning the car for 4 years, there are many other vehicles I would purchase over this one. Initially, I really liked what the brand is about: ride quality, reliability, etc. But I will not purchase another one. Despite these concerns, I must say, the level of comfort in the car has always been satisfactory, but not worth the rest of issues found.\n",
      "Actual Sentiment: NEGATIVE\n",
      "Predicted Sentiment: POSITIVE (Confidence: 0.8654)\n",
      "-----------------------------\n",
      "\n",
      "My first foreign car. Love it, I would buy another.\n",
      "Actual Sentiment: POSITIVE\n",
      "Predicted Sentiment: POSITIVE (Confidence: 0.9995)\n",
      "-----------------------------\n",
      "\n",
      "I've come across numerous reviews praising the Rogue, and I genuinely feel like I might be missing something. It's only been a week since I got the car, and I am genuinely disappointed. I truly wish I could return it. My main concern revolves around what I see as a significant design flaw (which I believe also exists in the Murano, though that wasn't much better and considerably pricier). The rear windshield is just too small. The headrests in the back seat obstruct the sides of the rearview window. This \"Crossover\" feels more like a cheaply made compact car. My other vehicle is a Sonata, and it provides a significantly quieter and smoother ride. I did not anticipate this car to ride so roughly; my 2006 Pathfinder had a smoother ride! I would rate this car a 5 all around.\n",
      "Actual Sentiment: NEGATIVE\n",
      "Predicted Sentiment: NEGATIVE (Confidence: 0.9935)\n",
      "-----------------------------\n",
      "\n",
      "I've been dreaming of owning an SUV for quite a while, but I've been driving cars that were already paid for during an extended period. I ultimately made the decision to transition to a brand-new car, which, of course, involved taking on new payments. However, given that I don't drive extensively, I was inclined to avoid a substantial financial commitment. The Nissan Rogue provides me with the desired SUV experience without burdening me with an exorbitant payment; the financial arrangement is quite reasonable. Handling and styling are great; I have hauled 12 bags of mulch in the back with the seats down and could have held more. I am VERY satisfied overall. I find myself needing to exercise extra caution when making lane changes, particularly owing to the blind spots resulting from the small side windows situated towards the rear of the vehicle. To address this concern, I am actively engaged in making adjustments to my mirrors and consciously reducing the frequency of lane changes. The engine delivers strong performance, and the ride is really smooth.\n",
      "Actual Sentiment: POSITIVE\n",
      "Predicted Sentiment: POSITIVE (Confidence: 0.9987)\n",
      "-----------------------------\n",
      "\n"
     ]
    }
   ],
   "source": [
    "## PERFORMING INFERENCE ON CAR REVIEWS\n",
    "\n",
    "for review, prediction, label in zip(reviews,predicted_labels,real_labels):\n",
    "    print(f\"{review}\\nActual Sentiment: {label}\\nPredicted Sentiment: {prediction['label']} (Confidence: {prediction['score']:.4f})\\n-----------------------------\\n\")"
   ]
  },
  {
   "cell_type": "code",
   "execution_count": 13,
   "id": "03f5d9ef",
   "metadata": {},
   "outputs": [],
   "source": [
    "### ACCURACY AND F1 SCORE METRICS\n",
    "import evaluate\n"
   ]
  },
  {
   "cell_type": "code",
   "execution_count": 14,
   "id": "8c7f2552",
   "metadata": {
    "scrolled": true
   },
   "outputs": [],
   "source": [
    "accuracy=evaluate.load('accuracy')\n",
    "f1= evaluate.load('f1')"
   ]
  },
  {
   "cell_type": "code",
   "execution_count": 15,
   "id": "d40104fb",
   "metadata": {},
   "outputs": [],
   "source": [
    "# Mapping categorical sentiment labels into integer labels\n",
    "references= [1 if label=='POSITIVE' else 0 for label in real_labels]\n",
    "predictions= [1 if label=='POSITIVE' else 0 for label in predicted_labels]"
   ]
  },
  {
   "cell_type": "code",
   "execution_count": 16,
   "id": "053e60b5",
   "metadata": {},
   "outputs": [],
   "source": [
    "# Calculating accuracy and F1 score\n",
    "accuracy_result=accuracy.compute(references=references,predictions=predictions)\n",
    "f1_result=f1.compute(references=references,predictions=predictions)"
   ]
  },
  {
   "cell_type": "code",
   "execution_count": 17,
   "id": "251f41b2",
   "metadata": {},
   "outputs": [
    {
     "name": "stdout",
     "output_type": "stream",
     "text": [
      "Accuracy: 0.4\n",
      "F1: 0.0\n"
     ]
    }
   ],
   "source": [
    "print(f\"Accuracy: {accuracy_result['accuracy']}\")\n",
    "print(f\"F1: {f1_result['f1']}\")"
   ]
  },
  {
   "cell_type": "markdown",
   "id": "bb758616",
   "metadata": {},
   "source": [
    "### SECTION- II : TRANSLATION\n",
    "#### The company is recently attracting customers from Spain. Extract and pass the first two sentences of the first review in the dataset to an English-to-Spanish translation LLM. Calculate the BLEU score to assess translation quality, using the content in reference_translations.txt as references.\n",
    "#### - Store the translated text generated by the LLM in translated_review.\n",
    "#### - Store the BLEU score metric result in bleu_score."
   ]
  },
  {
   "cell_type": "code",
   "execution_count": 26,
   "id": "1bdb46d5",
   "metadata": {},
   "outputs": [],
   "source": [
    "## LOADING TRANSLATION LLM AND TRANSLATING CAR REVIEW\n",
    "first_review= reviews[0]\n",
    "translator=pipeline('translation',model='Helsinki-NLP/opus-mt-en-es')"
   ]
  },
  {
   "cell_type": "code",
   "execution_count": 28,
   "id": "6caf7b88",
   "metadata": {},
   "outputs": [
    {
     "name": "stderr",
     "output_type": "stream",
     "text": [
      "Your input_length: 365 is bigger than 0.9 * max_length: 27. You might consider increasing your max_length manually, e.g. translator('...', max_length=400)\n"
     ]
    }
   ],
   "source": [
    "translated_review=translator(first_review,max_length=27)[0]['translation_text']"
   ]
  },
  {
   "cell_type": "code",
   "execution_count": 30,
   "id": "b6acf2ac",
   "metadata": {},
   "outputs": [
    {
     "name": "stdout",
     "output_type": "stream",
     "text": [
      "Model Translation:\n",
      " Estoy muy satisfecho con mi 2014 Nissan NV SL. Uso esta furgoneta para mis entregas de negocios y uso personal.\n"
     ]
    }
   ],
   "source": [
    "print(f\"Model Translation:\\n {translated_review}\")"
   ]
  },
  {
   "cell_type": "code",
   "execution_count": 33,
   "id": "3e05af4b",
   "metadata": {},
   "outputs": [],
   "source": [
    "## LOADING REFERENCE TRANSLATION FROM FILE\n",
    "with open('D:\\\\Learning Courses\\\\DSProjects\\\\Datacamp Analyzing Car Reviews with LLMs\\\\data\\\\reference_translations.txt','r') as file:\n",
    "    lines= file.readlines()"
   ]
  },
  {
   "cell_type": "code",
   "execution_count": 36,
   "id": "b9270766",
   "metadata": {},
   "outputs": [],
   "source": [
    "references= [line.strip() for line in lines]"
   ]
  },
  {
   "cell_type": "code",
   "execution_count": 37,
   "id": "a7870ab2",
   "metadata": {},
   "outputs": [
    {
     "name": "stdout",
     "output_type": "stream",
     "text": [
      "Spanish translation references: \n",
      " ['Estoy muy satisfecho con mi Nissan NV SL 2014. Utilizo esta camioneta para mis entregas comerciales y uso personal.', 'Estoy muy satisfecho con mi Nissan NV SL 2014. Uso esta furgoneta para mis entregas comerciales y uso personal.']\n"
     ]
    }
   ],
   "source": [
    "print(f\"Spanish translation references: \\n {references}\")"
   ]
  },
  {
   "cell_type": "code",
   "execution_count": 39,
   "id": "5181b8f6",
   "metadata": {},
   "outputs": [
    {
     "name": "stderr",
     "output_type": "stream",
     "text": [
      "Downloading builder script: 100%|█████████████████████████████████████████████████████████| 5.94k/5.94k [00:00<?, ?B/s]\n",
      "Downloading extra modules: 4.07kB [00:00, ?B/s]                                                                        \n",
      "Downloading extra modules: 100%|██████████████████████████████████████████████████████████| 3.34k/3.34k [00:00<?, ?B/s]\n"
     ]
    }
   ],
   "source": [
    "### BLEU SCORE METRIC\n",
    "bleu=evaluate.load('bleu')"
   ]
  },
  {
   "cell_type": "code",
   "execution_count": 43,
   "id": "37f9cd11",
   "metadata": {
    "scrolled": true
   },
   "outputs": [
    {
     "name": "stdout",
     "output_type": "stream",
     "text": [
      "BLEU SCORE : 0.6023 \n"
     ]
    }
   ],
   "source": [
    "bleu_score=bleu.compute(predictions=[translated_review],references=[references])\n",
    "print(f\"BLEU SCORE : {bleu_score['bleu']:.4f} \")"
   ]
  },
  {
   "cell_type": "markdown",
   "id": "9eb8b67b",
   "metadata": {},
   "source": [
    "### Section- III: Extractive QA\n",
    "#### The 2nd review in the dataset emphasizes brand aspects. Load an extractive QA LLM such as \"deepset/minilm-uncased-squad2\" to formulate the question \"What did he like about the brand?\" and obtain an answer.\n",
    "#### Use question and context for the two variables containing the LLM inputs: question and context.\n",
    "#### Store the actual text answer in answer."
   ]
  },
  {
   "cell_type": "code",
   "execution_count": 45,
   "id": "b7b22eae",
   "metadata": {},
   "outputs": [],
   "source": [
    "# IMPORT AUTO CLASSES (CAN BE SOLVED VIA PIPELINE TOO)\n",
    "from transformers import AutoTokenizer\n",
    "from transformers import AutoModelForQuestionAnswering"
   ]
  },
  {
   "cell_type": "code",
   "execution_count": 46,
   "id": "86b71921",
   "metadata": {},
   "outputs": [
    {
     "name": "stderr",
     "output_type": "stream",
     "text": [
      "C:\\Users\\jazil.kalim\\my_venv\\lib\\site-packages\\huggingface_hub\\file_download.py:159: UserWarning: `huggingface_hub` cache-system uses symlinks by default to efficiently store duplicated files but your machine does not support them in C:\\Users\\jazil.kalim\\.cache\\huggingface\\hub\\models--deepset--minilm-uncased-squad2. Caching files will still work but in a degraded version that might require more space on your disk. This warning can be disabled by setting the `HF_HUB_DISABLE_SYMLINKS_WARNING` environment variable. For more details, see https://huggingface.co/docs/huggingface_hub/how-to-cache#limitations.\n",
      "To support symlinks on Windows, you either need to activate Developer Mode or to run Python as an administrator. In order to see activate developer mode, see this article: https://docs.microsoft.com/en-us/windows/apps/get-started/enable-your-device-for-development\n",
      "  warnings.warn(message)\n"
     ]
    }
   ],
   "source": [
    "## INSTANTIATE MODEL AND TOKENIZER\n",
    "model_ckp=\"deepset/minilm-uncased-squad2\"\n",
    "tokenizer=AutoTokenizer.from_pretrained(model_ckp)"
   ]
  },
  {
   "cell_type": "code",
   "execution_count": 47,
   "id": "65f9d843",
   "metadata": {},
   "outputs": [
    {
     "name": "stderr",
     "output_type": "stream",
     "text": [
      "Some weights of the model checkpoint at deepset/minilm-uncased-squad2 were not used when initializing BertForQuestionAnswering: ['bert.pooler.dense.bias', 'bert.pooler.dense.weight']\n",
      "- This IS expected if you are initializing BertForQuestionAnswering from the checkpoint of a model trained on another task or with another architecture (e.g. initializing a BertForSequenceClassification model from a BertForPreTraining model).\n",
      "- This IS NOT expected if you are initializing BertForQuestionAnswering from the checkpoint of a model that you expect to be exactly identical (initializing a BertForSequenceClassification model from a BertForSequenceClassification model).\n"
     ]
    }
   ],
   "source": [
    "model=AutoModelForQuestionAnswering.from_pretrained(model_ckp)"
   ]
  },
  {
   "cell_type": "code",
   "execution_count": 51,
   "id": "177b394b",
   "metadata": {},
   "outputs": [
    {
     "name": "stdout",
     "output_type": "stream",
     "text": [
      "Context:\n",
      " The car is fine. It's a bit loud and not very powerful. On one hand, compared to its peers, the interior is well-built. The transmission failed a few years ago, and the dealer replaced it under warranty with no issues. Now, about 60k miles later, the transmission is failing again. It sounds like a truck, and the issues are well-documented. The dealer tells me it is normal, refusing to do anything to resolve the issue. After owning the car for 4 years, there are many other vehicles I would purchase over this one. Initially, I really liked what the brand is about: ride quality, reliability, etc. But I will not purchase another one. Despite these concerns, I must say, the level of comfort in the car has always been satisfactory, but not worth the rest of issues found.\n"
     ]
    }
   ],
   "source": [
    "## DEFINE QUESTION AND CONTEXT AND TOKENIZE THEM\n",
    "context=reviews[1] ## review 2\n",
    "print(f\"Context:\\n {context}\")\n",
    "      "
   ]
  },
  {
   "cell_type": "code",
   "execution_count": 52,
   "id": "7e1963af",
   "metadata": {},
   "outputs": [],
   "source": [
    "question = \"What did he like about the brand?\"\n",
    "inputs= tokenizer(question,context,return_tensors='pt')"
   ]
  },
  {
   "cell_type": "code",
   "execution_count": 57,
   "id": "c33f8002",
   "metadata": {},
   "outputs": [],
   "source": [
    "## PERFORMING INFERENCE AND EXTRACTING ANSWERS FROM RAW OUTPUTS\n",
    "with torch.no_grad():\n",
    "    outputs=model(**inputs)\n"
   ]
  },
  {
   "cell_type": "code",
   "execution_count": 64,
   "id": "de3dcda9",
   "metadata": {},
   "outputs": [],
   "source": [
    "start_idx=torch.argmax(outputs.start_logits)"
   ]
  },
  {
   "cell_type": "code",
   "execution_count": 69,
   "id": "6b2be24d",
   "metadata": {},
   "outputs": [],
   "source": [
    "end_idx= torch.argmax(outputs.end_logits)+1"
   ]
  },
  {
   "cell_type": "code",
   "execution_count": 73,
   "id": "f175f6b0",
   "metadata": {},
   "outputs": [],
   "source": [
    "answer_span=inputs['input_ids'][0][start_idx:end_idx]"
   ]
  },
  {
   "cell_type": "code",
   "execution_count": 78,
   "id": "1fa2cdda",
   "metadata": {},
   "outputs": [],
   "source": [
    "##Decode the answer\n",
    "answer = tokenizer.decode(answer_span)"
   ]
  },
  {
   "cell_type": "code",
   "execution_count": 80,
   "id": "b5b39d69",
   "metadata": {},
   "outputs": [
    {
     "name": "stdout",
     "output_type": "stream",
     "text": [
      "Answer: \n",
      " ride quality, reliability\n"
     ]
    }
   ],
   "source": [
    "print(f\"Answer: \\n {answer}\")"
   ]
  },
  {
   "cell_type": "markdown",
   "id": "8c94fe45",
   "metadata": {},
   "source": [
    "### Section-IV : Text Summarization\n",
    "#### Summarize the last review in the dataset, into approximately 50-55 tokens long. Store it in the variable summarized_text."
   ]
  },
  {
   "cell_type": "code",
   "execution_count": 83,
   "id": "939ef257",
   "metadata": {},
   "outputs": [
    {
     "name": "stdout",
     "output_type": "stream",
     "text": [
      "Original text to summarize: \n",
      " I've been dreaming of owning an SUV for quite a while, but I've been driving cars that were already paid for during an extended period. I ultimately made the decision to transition to a brand-new car, which, of course, involved taking on new payments. However, given that I don't drive extensively, I was inclined to avoid a substantial financial commitment. The Nissan Rogue provides me with the desired SUV experience without burdening me with an exorbitant payment; the financial arrangement is quite reasonable. Handling and styling are great; I have hauled 12 bags of mulch in the back with the seats down and could have held more. I am VERY satisfied overall. I find myself needing to exercise extra caution when making lane changes, particularly owing to the blind spots resulting from the small side windows situated towards the rear of the vehicle. To address this concern, I am actively engaged in making adjustments to my mirrors and consciously reducing the frequency of lane changes. The engine delivers strong performance, and the ride is really smooth.\n"
     ]
    }
   ],
   "source": [
    "## GET THE ORIGNINAL TEXT TO SUMMARIZE\n",
    "text_to_summarize= reviews[-1]\n",
    "print(f\"Original text to summarize: \\n {text_to_summarize}\")"
   ]
  },
  {
   "cell_type": "code",
   "execution_count": 85,
   "id": "8a004ba0",
   "metadata": {},
   "outputs": [],
   "source": [
    "##LOADING SUMMARIZATION PIPELINE and PERFORMING INFERENCE\n",
    "model_name= \"cnicu/t5-small-booksum\""
   ]
  },
  {
   "cell_type": "code",
   "execution_count": 87,
   "id": "9c68362c",
   "metadata": {},
   "outputs": [],
   "source": [
    "summarizer= pipeline(\"summarization\", model=model_name)"
   ]
  },
  {
   "cell_type": "code",
   "execution_count": 88,
   "id": "aa38b22e",
   "metadata": {},
   "outputs": [],
   "source": [
    "outputs=summarizer(text_to_summarize,max_length=53)\n"
   ]
  },
  {
   "cell_type": "code",
   "execution_count": null,
   "id": "f0db6671",
   "metadata": {},
   "outputs": [],
   "source": []
  },
  {
   "cell_type": "code",
   "execution_count": 92,
   "id": "cac85c85",
   "metadata": {},
   "outputs": [
    {
     "name": "stdout",
     "output_type": "stream",
     "text": [
      "Summarized text : \n",
      " the Nissan Rogue provides me with the desired SUV experience without burdening me with an exorbitant payment; the financial arrangement is quite reasonable. I have hauled 12 bags of mulch in the back with the seats down and could have held more.\n"
     ]
    }
   ],
   "source": [
    "summarized_text= outputs[0]['summary_text']\n",
    "print(f\"Summarized text : \\n {summarized_text}\")"
   ]
  },
  {
   "cell_type": "code",
   "execution_count": null,
   "id": "e7cd348f",
   "metadata": {},
   "outputs": [],
   "source": []
  }
 ],
 "metadata": {
  "kernelspec": {
   "display_name": "torch_venv",
   "language": "python",
   "name": "torch_venv"
  },
  "language_info": {
   "codemirror_mode": {
    "name": "ipython",
    "version": 3
   },
   "file_extension": ".py",
   "mimetype": "text/x-python",
   "name": "python",
   "nbconvert_exporter": "python",
   "pygments_lexer": "ipython3",
   "version": "3.10.11"
  }
 },
 "nbformat": 4,
 "nbformat_minor": 5
}
